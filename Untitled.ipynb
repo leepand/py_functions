{
 "cells": [
  {
   "cell_type": "code",
   "execution_count": 1,
   "metadata": {},
   "outputs": [
    {
     "name": "stdout",
     "output_type": "stream",
     "text": [
      "Writing unORescapeHTML.js\n"
     ]
    }
   ],
   "source": [
    "%%file unORescapeHTML.js\n",
    "//将服务端字符串中特殊字符互相转化  \" ' < > 等\n",
    "/**\n",
    " * @function escapeHTML 转义html脚本 < > & \" '\n",
    " * @param a  字符串   \n",
    " */\n",
    " \n",
    "function escapeHTML(a){\n",
    "    a = \"\" + a;\n",
    "    return a..replace(/&/g, \"&amp;\").replace(/</g, \"&lt;\").replace(/>/g, \"&gt;\").replace(/\"/g, \"&quot;\").replace(/'/g, \"&apos;\");\n",
    "}\n",
    " \n",
    " \n",
    " \n",
    "/**\n",
    " * @function unescapeHTML 还原html脚本 < > & \" '\n",
    " * @param a  字符串\n",
    " */\n",
    "function unescapeHTML(a){\n",
    "    a = \"\" + a;\n",
    "    return a.replace(/&lt;/g, \"<\").replace(/&gt;/g, \">\").replace(/&amp;/g, \"&\").replace(/&quot;/g, '\"').replace(/&apos;/g, \"'\");\n",
    "}"
   ]
  },
  {
   "cell_type": "code",
   "execution_count": 5,
   "metadata": {},
   "outputs": [
    {
     "name": "stdout",
     "output_type": "stream",
     "text": [
      "Overwriting unORescapeHTML.py\n"
     ]
    }
   ],
   "source": [
    "%%file unORescapeHTML.py\n",
    "import re\n",
    "\n",
    "_XHTML_ESCAPE_RE = re.compile(\"[&<>\\\"']\")\n",
    "_XHTML_ESCAPE_DICT = {\n",
    "    \"&\": \"&amp;\",\n",
    "    \"<\": \"&lt;\",\n",
    "    \">\": \"&gt;\",\n",
    "    '\"': \"&quot;\",\n",
    "    \"'\": \"&#39;\",\n",
    "}\n",
    "unicode_type = str\n",
    "_TO_UNICODE_TYPES = (unicode_type, type(None))\n",
    "\n",
    "def to_unicode(value):  # noqa: F811\n",
    "    \"\"\"Converts a string argument to a unicode string.\n",
    "    If the argument is already a unicode string or None, it is returned\n",
    "    unchanged.  Otherwise it must be a byte string and is decoded as utf8.\n",
    "    \"\"\"\n",
    "    if isinstance(value, _TO_UNICODE_TYPES):\n",
    "        return value\n",
    "    if not isinstance(value, bytes):\n",
    "        raise TypeError(\"Expected bytes, unicode, or None; got %r\" % type(value))\n",
    "    return value.decode(\"utf-8\")\n",
    "to_basestring = to_unicode\n",
    "def xhtml_escape(value):\n",
    "    \"\"\"Escapes a string so it is valid within HTML or XML.\n",
    "    Escapes the characters ``<``, ``>``, ``\"``, ``'``, and ``&``.\n",
    "    When used in attribute values the escaped strings must be enclosed\n",
    "    in quotes.\n",
    "    .. versionchanged:: 3.2\n",
    "       Added the single quote to the list of escaped characters.\n",
    "    \"\"\"\n",
    "    return _XHTML_ESCAPE_RE.sub(\n",
    "        lambda match: _XHTML_ESCAPE_DICT[match.group(0)], to_basestring(value)\n",
    "    )\n",
    "test='if(self.context[\"customer\"] == \"returning\")'\n",
    "print xhtml_escape(test)"
   ]
  },
  {
   "cell_type": "code",
   "execution_count": 4,
   "metadata": {},
   "outputs": [
    {
     "name": "stdout",
     "output_type": "stream",
     "text": [
      "if(self.context[&quot;customer&quot;] == &quot;returning&quot;)\n"
     ]
    }
   ],
   "source": [
    "test='if(self.context[\"customer\"] == \"returning\")'\n",
    "print xhtml_escape(test)"
   ]
  },
  {
   "cell_type": "code",
   "execution_count": null,
   "metadata": {},
   "outputs": [],
   "source": []
  }
 ],
 "metadata": {
  "kernelspec": {
   "display_name": "Python 2",
   "language": "python",
   "name": "python2"
  },
  "language_info": {
   "codemirror_mode": {
    "name": "ipython",
    "version": 2
   },
   "file_extension": ".py",
   "mimetype": "text/x-python",
   "name": "python",
   "nbconvert_exporter": "python",
   "pygments_lexer": "ipython2",
   "version": "2.7.16"
  }
 },
 "nbformat": 4,
 "nbformat_minor": 2
}
